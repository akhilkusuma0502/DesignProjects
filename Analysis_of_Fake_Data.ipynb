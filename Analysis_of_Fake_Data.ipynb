{
 "cells": [
  {
   "cell_type": "markdown",
   "metadata": {},
   "source": [
    "# Python Program for Analysis of Fake Data Creations for different Sizes\n",
    "Write Python code that can create a CSV containing 10 columns of text data​\n",
    "\n",
    "Each entry in each row should be between 3 and 25 characters\n",
    "Adjacent rows in a CSV should not be the same\n",
    "Generate files of size {0.1, 1, 5, 10, 100, 500} MB of data\n",
    "Execution time for creating all of the data to be written to file should take less than 5 minutes. (Email me if you do not solve this in less than an hour.)\n",
    "\n",
    "The precision of the file sizes is +/- 20%.\n",
    "\n",
    "Measure how much time it takes to write each CSV file to disk. In your measurement do not include the time used in creating the CSV files. Perform this measurement three times per file size. Each measurement is of a different CSV. That's three different files per file size.​\n",
    "\n",
    "Measure how much time it takes for your computer to load the data from the CSV on disk into a Pandas dataframe. Perform this measurement three times per file size. Each measurement is of a different CSV.​\n",
    "\n",
    "Results: ​\n",
    "\n",
    "table of values (file size versus read time and write time for each experiment) ​\n",
    "Plot the average write times and average load times versus file size in a single scatter plot​ with semilogx scale\n",
    "Submit your python notebook (.ipynb file) containing the code for the experiment (creating files, running the timing experiments) and the results. ​\n",
    "\n",
    "Do not include the CSV files in your submission.\n",
    "\n",
    "\n",
    "\n",
    "For this assignment, please ignore the rubric's runtime constraint for notebook."
   ]
  },
  {
   "cell_type": "code",
   "execution_count": 1,
   "metadata": {},
   "outputs": [
    {
     "name": "stdout",
     "output_type": "stream",
     "text": [
      "Requirement already satisfied: random-word in c:\\users\\aki55\\anaconda3\\lib\\site-packages (1.0.4)\n",
      "Requirement already satisfied: requests in c:\\users\\aki55\\anaconda3\\lib\\site-packages (from random-word) (2.22.0)\n",
      "Requirement already satisfied: nose in c:\\users\\aki55\\anaconda3\\lib\\site-packages (from random-word) (1.3.7)\n",
      "Requirement already satisfied: chardet<3.1.0,>=3.0.2 in c:\\users\\aki55\\anaconda3\\lib\\site-packages (from requests->random-word) (3.0.4)\n",
      "Requirement already satisfied: urllib3!=1.25.0,!=1.25.1,<1.26,>=1.21.1 in c:\\users\\aki55\\anaconda3\\lib\\site-packages (from requests->random-word) (1.24.2)\n",
      "Requirement already satisfied: certifi>=2017.4.17 in c:\\users\\aki55\\anaconda3\\lib\\site-packages (from requests->random-word) (2019.6.16)\n",
      "Requirement already satisfied: idna<2.9,>=2.5 in c:\\users\\aki55\\anaconda3\\lib\\site-packages (from requests->random-word) (2.8)\n"
     ]
    }
   ],
   "source": [
    "!pip install random-word"
   ]
  },
  {
   "cell_type": "markdown",
   "metadata": {},
   "source": [
    "installing random word library that i will be using to fill all my dataframe with random words."
   ]
  },
  {
   "cell_type": "code",
   "execution_count": 2,
   "metadata": {},
   "outputs": [],
   "source": [
    "from random_word import RandomWords\n",
    "import pandas as pd\n",
    "import random as rd\n",
    "import numpy as np\n",
    "import sys\n",
    "import csv\n",
    "import matplotlib.pyplot as plt\n",
    "import time"
   ]
  },
  {
   "cell_type": "markdown",
   "metadata": {},
   "source": [
    "Importing Randomwords and random to ramdomly select all my words\n",
    "and also imoorting pandas and numpy and all required modules."
   ]
  },
  {
   "cell_type": "code",
   "execution_count": 3,
   "metadata": {},
   "outputs": [],
   "source": [
    "def getDataframe(words):\n",
    "    start_time=time.time()\n",
    "    list_of_rows=[]\n",
    "    num_rows=1000\n",
    "    for indx in range(num_rows):\n",
    "        list_of_rows.append({'A':rd.choice(words),\n",
    "                              'B':rd.choice(words),\n",
    "                              'C':rd.choice(words),\n",
    "                              'D':rd.choice(words),\n",
    "                              'E':rd.choice(words),\n",
    "                              'F':rd.choice(words),\n",
    "                              'G':rd.choice(words),\n",
    "                              'H':rd.choice(words),\n",
    "                              'I':rd.choice(words),\n",
    "                              'J':rd.choice(words)})\n",
    "        df_frame = pd.DataFrame(list_of_rows)\n",
    "    return df_frame"
   ]
  },
  {
   "cell_type": "markdown",
   "metadata": {},
   "source": [
    "   The above function creates a dataframe of 0.1 mb in size with all random words filled."
   ]
  },
  {
   "cell_type": "code",
   "execution_count": 4,
   "metadata": {},
   "outputs": [],
   "source": [
    "def WriteCsv_to_disk(dframes,experiments):\n",
    "    write_times=[]   \n",
    "    start_time = time.time()\n",
    "    for dataframe in dframes:\n",
    "        for count in range(0,experiments):   \n",
    "            file='File Test'+str(count+1)+'_'+str(round(sys.getsizeof(dataframe)/(1024*1024),2))+'_MB_.csv'\n",
    "            filenames.append(file)\n",
    "            dataframe.to_csv(file,index=False)    \n",
    "            write_times.append(time.time() - start_time)\n",
    "    return write_times"
   ]
  },
  {
   "cell_type": "markdown",
   "metadata": {},
   "source": [
    "The above function takes all the required dataframes(In this case , the dframes expects 6 as per the objective and number of experiments to be 6)\n",
    "Then it records each file and experiments time to a list. It has to be 18 different writing times in a list."
   ]
  },
  {
   "cell_type": "code",
   "execution_count": 5,
   "metadata": {},
   "outputs": [],
   "source": [
    "def Read_from_Csv():\n",
    "    readTimes=[]\n",
    "    start_time = time.time()\n",
    "    for file in filenames:\n",
    "        read_df=pd.read_csv(file)\n",
    "        readTimes.append(time.time()-start_time)  \n",
    "    return readTimes"
   ]
  },
  {
   "cell_type": "markdown",
   "metadata": {},
   "source": [
    "Same as above function, It records all files read time  and returns a list to the calling variable."
   ]
  },
  {
   "cell_type": "code",
   "execution_count": 6,
   "metadata": {},
   "outputs": [],
   "source": [
    "def getTabledData(dframes,experiments):\n",
    "    recorded_dframe=pd.DataFrame(columns=('experimented_files','write_time','read_Time'))\n",
    "    recorded_dframe['write_time']=WriteCsv_to_disk(dframes,experiments)\n",
    "    recorded_dframe['read_Time']=Read_from_Csv()\n",
    "    recorded_dframe['experimented_files']=filenames\n",
    "    return recorded_dframe"
   ]
  },
  {
   "cell_type": "markdown",
   "metadata": {},
   "source": [
    "The aove function calls write and read functions by passing the dframes and experiments. The output from this function is a dframe with columns experimented_files,write_time and read_Time."
   ]
  },
  {
   "cell_type": "markdown",
   "metadata": {},
   "source": [
    "# Execution Starts from here"
   ]
  },
  {
   "cell_type": "code",
   "execution_count": 7,
   "metadata": {},
   "outputs": [],
   "source": [
    "experiments = 3     ## Number of Experiments\n",
    "Sizes = [0.1, 1, 5, 10, 100, 500]     ##File Different Sizes\n",
    "start_time = time.time()        ##Setting Start Time"
   ]
  },
  {
   "cell_type": "code",
   "execution_count": 8,
   "metadata": {},
   "outputs": [],
   "source": [
    "r = RandomWords()       ##Storing all list of random words to a list"
   ]
  },
  {
   "cell_type": "code",
   "execution_count": 9,
   "metadata": {},
   "outputs": [],
   "source": [
    "words=r.get_random_words(minLength=3,maxLength=25)"
   ]
  },
  {
   "cell_type": "markdown",
   "metadata": {},
   "source": [
    "# The below lines creates different dataframes on concat."
   ]
  },
  {
   "cell_type": "code",
   "execution_count": 10,
   "metadata": {},
   "outputs": [],
   "source": [
    "list_of_dframes=[]\n",
    "df=getDataframe(words)\n",
    "list_of_dframes.append(df)\n",
    "list_of_dframes.append(pd.concat([df]*10))      ##Creates 1 MB\n",
    "list_of_dframes.append(pd.concat([df]*10*5))    ##Creates 5 mb\n",
    "list_of_dframes.append(pd.concat([df]*10*5*2))  ## Creates 10 mb\n",
    "list_of_dframes.append(pd.concat([df]*10*5*2*10))   ##Creates 100mb\n",
    "list_of_dframes.append(pd.concat([df]*10*5*2*10*5))  ##Creates 500 mb"
   ]
  },
  {
   "cell_type": "markdown",
   "metadata": {},
   "source": [
    "# The below Cell takes min of 4 min to execute."
   ]
  },
  {
   "cell_type": "code",
   "execution_count": 11,
   "metadata": {},
   "outputs": [],
   "source": [
    "filenames=[]      ##I am recording all filenames in a list\n",
    "final_df=getTabledData(list_of_dframes,experiments)       ##Calling our user defined function to get a dframe of read and write times."
   ]
  },
  {
   "cell_type": "markdown",
   "metadata": {},
   "source": [
    "# Check the read and write times for each file below"
   ]
  },
  {
   "cell_type": "code",
   "execution_count": 12,
   "metadata": {},
   "outputs": [
    {
     "data": {
      "text/html": [
       "<div>\n",
       "<style scoped>\n",
       "    .dataframe tbody tr th:only-of-type {\n",
       "        vertical-align: middle;\n",
       "    }\n",
       "\n",
       "    .dataframe tbody tr th {\n",
       "        vertical-align: top;\n",
       "    }\n",
       "\n",
       "    .dataframe thead th {\n",
       "        text-align: right;\n",
       "    }\n",
       "</style>\n",
       "<table border=\"1\" class=\"dataframe\">\n",
       "  <thead>\n",
       "    <tr style=\"text-align: right;\">\n",
       "      <th></th>\n",
       "      <th>experimented_files</th>\n",
       "      <th>write_time</th>\n",
       "      <th>read_Time</th>\n",
       "    </tr>\n",
       "  </thead>\n",
       "  <tbody>\n",
       "    <tr>\n",
       "      <th>0</th>\n",
       "      <td>File Test1_0.63_MB_.csv</td>\n",
       "      <td>0.026935</td>\n",
       "      <td>0.004986</td>\n",
       "    </tr>\n",
       "    <tr>\n",
       "      <th>1</th>\n",
       "      <td>File Test2_0.63_MB_.csv</td>\n",
       "      <td>0.040891</td>\n",
       "      <td>0.009973</td>\n",
       "    </tr>\n",
       "    <tr>\n",
       "      <th>2</th>\n",
       "      <td>File Test3_0.63_MB_.csv</td>\n",
       "      <td>0.052858</td>\n",
       "      <td>0.013963</td>\n",
       "    </tr>\n",
       "    <tr>\n",
       "      <th>3</th>\n",
       "      <td>File Test1_6.37_MB_.csv</td>\n",
       "      <td>0.140624</td>\n",
       "      <td>0.031914</td>\n",
       "    </tr>\n",
       "    <tr>\n",
       "      <th>4</th>\n",
       "      <td>File Test2_6.37_MB_.csv</td>\n",
       "      <td>0.221406</td>\n",
       "      <td>0.049867</td>\n",
       "    </tr>\n",
       "    <tr>\n",
       "      <th>5</th>\n",
       "      <td>File Test3_6.37_MB_.csv</td>\n",
       "      <td>0.316144</td>\n",
       "      <td>0.066821</td>\n",
       "    </tr>\n",
       "    <tr>\n",
       "      <th>6</th>\n",
       "      <td>File Test1_31.84_MB_.csv</td>\n",
       "      <td>0.706134</td>\n",
       "      <td>0.141622</td>\n",
       "    </tr>\n",
       "    <tr>\n",
       "      <th>7</th>\n",
       "      <td>File Test2_31.84_MB_.csv</td>\n",
       "      <td>1.192800</td>\n",
       "      <td>0.202459</td>\n",
       "    </tr>\n",
       "    <tr>\n",
       "      <th>8</th>\n",
       "      <td>File Test3_31.84_MB_.csv</td>\n",
       "      <td>1.689473</td>\n",
       "      <td>0.263315</td>\n",
       "    </tr>\n",
       "    <tr>\n",
       "      <th>9</th>\n",
       "      <td>File Test1_63.69_MB_.csv</td>\n",
       "      <td>2.550112</td>\n",
       "      <td>0.379985</td>\n",
       "    </tr>\n",
       "    <tr>\n",
       "      <th>10</th>\n",
       "      <td>File Test2_63.69_MB_.csv</td>\n",
       "      <td>3.392871</td>\n",
       "      <td>0.499666</td>\n",
       "    </tr>\n",
       "    <tr>\n",
       "      <th>11</th>\n",
       "      <td>File Test3_63.69_MB_.csv</td>\n",
       "      <td>4.331867</td>\n",
       "      <td>0.622337</td>\n",
       "    </tr>\n",
       "    <tr>\n",
       "      <th>12</th>\n",
       "      <td>File Test1_636.88_MB_.csv</td>\n",
       "      <td>11.554214</td>\n",
       "      <td>1.736358</td>\n",
       "    </tr>\n",
       "    <tr>\n",
       "      <th>13</th>\n",
       "      <td>File Test2_636.88_MB_.csv</td>\n",
       "      <td>18.865686</td>\n",
       "      <td>2.988010</td>\n",
       "    </tr>\n",
       "    <tr>\n",
       "      <th>14</th>\n",
       "      <td>File Test3_636.88_MB_.csv</td>\n",
       "      <td>26.097324</td>\n",
       "      <td>4.265601</td>\n",
       "    </tr>\n",
       "    <tr>\n",
       "      <th>15</th>\n",
       "      <td>File Test1_3184.39_MB_.csv</td>\n",
       "      <td>63.877514</td>\n",
       "      <td>9.628254</td>\n",
       "    </tr>\n",
       "    <tr>\n",
       "      <th>16</th>\n",
       "      <td>File Test2_3184.39_MB_.csv</td>\n",
       "      <td>104.345867</td>\n",
       "      <td>15.126552</td>\n",
       "    </tr>\n",
       "    <tr>\n",
       "      <th>17</th>\n",
       "      <td>File Test3_3184.39_MB_.csv</td>\n",
       "      <td>140.319517</td>\n",
       "      <td>20.675713</td>\n",
       "    </tr>\n",
       "  </tbody>\n",
       "</table>\n",
       "</div>"
      ],
      "text/plain": [
       "            experimented_files  write_time  read_Time\n",
       "0      File Test1_0.63_MB_.csv    0.026935   0.004986\n",
       "1      File Test2_0.63_MB_.csv    0.040891   0.009973\n",
       "2      File Test3_0.63_MB_.csv    0.052858   0.013963\n",
       "3      File Test1_6.37_MB_.csv    0.140624   0.031914\n",
       "4      File Test2_6.37_MB_.csv    0.221406   0.049867\n",
       "5      File Test3_6.37_MB_.csv    0.316144   0.066821\n",
       "6     File Test1_31.84_MB_.csv    0.706134   0.141622\n",
       "7     File Test2_31.84_MB_.csv    1.192800   0.202459\n",
       "8     File Test3_31.84_MB_.csv    1.689473   0.263315\n",
       "9     File Test1_63.69_MB_.csv    2.550112   0.379985\n",
       "10    File Test2_63.69_MB_.csv    3.392871   0.499666\n",
       "11    File Test3_63.69_MB_.csv    4.331867   0.622337\n",
       "12   File Test1_636.88_MB_.csv   11.554214   1.736358\n",
       "13   File Test2_636.88_MB_.csv   18.865686   2.988010\n",
       "14   File Test3_636.88_MB_.csv   26.097324   4.265601\n",
       "15  File Test1_3184.39_MB_.csv   63.877514   9.628254\n",
       "16  File Test2_3184.39_MB_.csv  104.345867  15.126552\n",
       "17  File Test3_3184.39_MB_.csv  140.319517  20.675713"
      ]
     },
     "execution_count": 12,
     "metadata": {},
     "output_type": "execute_result"
    }
   ],
   "source": [
    "final_df"
   ]
  },
  {
   "cell_type": "markdown",
   "metadata": {},
   "source": [
    "# We need an average of all files. Since we have divided each size in 3 experiments.\n",
    "# The resultant dataframe is the average of read and write times in seconds"
   ]
  },
  {
   "cell_type": "markdown",
   "metadata": {},
   "source": [
    "# I have just added a column which are sizes . This is required to plot as per the objective "
   ]
  },
  {
   "cell_type": "code",
   "execution_count": 13,
   "metadata": {},
   "outputs": [
    {
     "data": {
      "text/html": [
       "<div>\n",
       "<style scoped>\n",
       "    .dataframe tbody tr th:only-of-type {\n",
       "        vertical-align: middle;\n",
       "    }\n",
       "\n",
       "    .dataframe tbody tr th {\n",
       "        vertical-align: top;\n",
       "    }\n",
       "\n",
       "    .dataframe thead th {\n",
       "        text-align: right;\n",
       "    }\n",
       "</style>\n",
       "<table border=\"1\" class=\"dataframe\">\n",
       "  <thead>\n",
       "    <tr style=\"text-align: right;\">\n",
       "      <th></th>\n",
       "      <th>write_time</th>\n",
       "      <th>read_Time</th>\n",
       "      <th>FileSize(MB)</th>\n",
       "    </tr>\n",
       "  </thead>\n",
       "  <tbody>\n",
       "    <tr>\n",
       "      <th>0</th>\n",
       "      <td>0.040228</td>\n",
       "      <td>0.009641</td>\n",
       "      <td>0.1</td>\n",
       "    </tr>\n",
       "    <tr>\n",
       "      <th>1</th>\n",
       "      <td>0.226058</td>\n",
       "      <td>0.049534</td>\n",
       "      <td>1.0</td>\n",
       "    </tr>\n",
       "    <tr>\n",
       "      <th>2</th>\n",
       "      <td>1.196136</td>\n",
       "      <td>0.202465</td>\n",
       "      <td>5.0</td>\n",
       "    </tr>\n",
       "    <tr>\n",
       "      <th>3</th>\n",
       "      <td>3.424950</td>\n",
       "      <td>0.500662</td>\n",
       "      <td>10.0</td>\n",
       "    </tr>\n",
       "    <tr>\n",
       "      <th>4</th>\n",
       "      <td>18.839075</td>\n",
       "      <td>2.996656</td>\n",
       "      <td>100.0</td>\n",
       "    </tr>\n",
       "    <tr>\n",
       "      <th>5</th>\n",
       "      <td>102.847633</td>\n",
       "      <td>15.143506</td>\n",
       "      <td>500.0</td>\n",
       "    </tr>\n",
       "  </tbody>\n",
       "</table>\n",
       "</div>"
      ],
      "text/plain": [
       "   write_time  read_Time  FileSize(MB)\n",
       "0    0.040228   0.009641           0.1\n",
       "1    0.226058   0.049534           1.0\n",
       "2    1.196136   0.202465           5.0\n",
       "3    3.424950   0.500662          10.0\n",
       "4   18.839075   2.996656         100.0\n",
       "5  102.847633  15.143506         500.0"
      ]
     },
     "execution_count": 13,
     "metadata": {},
     "output_type": "execute_result"
    }
   ],
   "source": [
    "Average_read_write_Times = final_df.groupby(np.arange(len(final_df))//3).mean()\n",
    "Average_read_write_Times['FileSize(MB)']=Sizes\n",
    "Average_read_write_Times"
   ]
  },
  {
   "cell_type": "markdown",
   "metadata": {},
   "source": [
    "# Scatter plot of Average Times of Different File Sizes.( Semilogx Scale)"
   ]
  },
  {
   "cell_type": "code",
   "execution_count": 14,
   "metadata": {},
   "outputs": [
    {
     "data": {
      "image/png": "[encoded data removed]",
      "text/plain": [
       "<Figure size 432x288 with 1 Axes>"
      ]
     },
     "metadata": {
      "needs_background": "light"
     },
     "output_type": "display_data"
    }
   ],
   "source": [
    "subplot = Average_read_write_Times.plot(kind=\"scatter\", x=\"FileSize(MB)\",y=\"write_time\", color=\"r\", label=\"Writing Time in Seconds\")\n",
    "Average_read_write_Times.plot(kind = 'scatter', x=\"FileSize(MB)\",y=\"read_Time\", color=\"b\", label=\"Reading Time in Seconds\", ax=subplot)\n",
    "subplot.set_xlabel(\"Size of the File (Semilogx)\",fontsize=18)\n",
    "subplot.set_ylabel(\"Time (Seconds)\",fontsize=18)\n",
    "_=plt.title('Scatter plot that shows average read and write times of different sizes in semilogx scale ',fontsize=18)\n",
    "_=plt.semilogx(Average_read_write_Times['FileSize(MB)'])    ##Using Semilogx for x-axis.\n",
    "_ = plt.show()"
   ]
  }
 ],
 "metadata": {
  "kernelspec": {
   "display_name": "Python 3",
   "language": "python",
   "name": "python3"
  },
  "language_info": {
   "codemirror_mode": {
    "name": "ipython",
    "version": 3
   },
   "file_extension": ".py",
   "mimetype": "text/x-python",
   "name": "python",
   "nbconvert_exporter": "python",
   "pygments_lexer": "ipython3",
   "version": "3.7.3"
  }
 },
 "nbformat": 4,
 "nbformat_minor": 4
}
