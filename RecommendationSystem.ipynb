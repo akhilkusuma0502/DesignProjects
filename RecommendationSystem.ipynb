{
  "nbformat": 4,
  "nbformat_minor": 0,
  "metadata": {
    "colab": {
      "name": "RecommendationSystem.ipynb",
      "provenance": [],
      "toc_visible": true,
      "authorship_tag": "ABX9TyMkMl/gv6eCiRLO+PUFt48+",
      "include_colab_link": true
    },
    "kernelspec": {
      "name": "python3",
      "display_name": "Python 3"
    }
  },
  "cells": [
    {
      "cell_type": "markdown",
      "metadata": {
        "id": "view-in-github",
        "colab_type": "text"
      },
      "source": [
        "<a href=\"https://colab.research.google.com/github/akhilkusuma0502/DesignProjects/blob/master/RecommendationSystem.ipynb\" target=\"_parent\"><img src=\"https://colab.research.google.com/assets/colab-badge.svg\" alt=\"Open In Colab\"/></a>"
      ]
    },
    {
      "cell_type": "markdown",
      "metadata": {
        "id": "dvNaPm042lIF",
        "colab_type": "text"
      },
      "source": [
        "# Movie Recommendation System\n",
        "\n"
      ]
    },
    {
      "cell_type": "code",
      "metadata": {
        "id": "czLxWrWj2kuS",
        "colab_type": "code",
        "colab": {
          "base_uri": "https://localhost:8080/",
          "height": 212
        },
        "outputId": "d0c1946a-8026-480d-cbae-22a476816393"
      },
      "source": [
        "!wget --no-check-certificate \\\n",
        "    http://files.grouplens.org/datasets/movielens/ml-25m.zip \\\n",
        "    -O /tmp/ml-25m.zip"
      ],
      "execution_count": 1,
      "outputs": [
        {
          "output_type": "stream",
          "text": [
            "--2020-07-07 01:33:38--  http://files.grouplens.org/datasets/movielens/ml-25m.zip\n",
            "Resolving files.grouplens.org (files.grouplens.org)... 128.101.65.152\n",
            "Connecting to files.grouplens.org (files.grouplens.org)|128.101.65.152|:80... connected.\n",
            "HTTP request sent, awaiting response... 200 OK\n",
            "Length: 261978986 (250M) [application/zip]\n",
            "Saving to: ‘/tmp/ml-25m.zip’\n",
            "\n",
            "/tmp/ml-25m.zip     100%[===================>] 249.84M  17.3MB/s    in 16s     \n",
            "\n",
            "2020-07-07 01:33:55 (15.8 MB/s) - ‘/tmp/ml-25m.zip’ saved [261978986/261978986]\n",
            "\n"
          ],
          "name": "stdout"
        }
      ]
    },
    {
      "cell_type": "code",
      "metadata": {
        "id": "2-U73cWUqjBT",
        "colab_type": "code",
        "colab": {
          "base_uri": "https://localhost:8080/",
          "height": 107
        },
        "outputId": "34645852-9ce1-48c9-cf9f-7cca14fcdbaf"
      },
      "source": [
        "pip install fuzzywuzzy"
      ],
      "execution_count": 2,
      "outputs": [
        {
          "output_type": "stream",
          "text": [
            "Collecting fuzzywuzzy\n",
            "  Downloading https://files.pythonhosted.org/packages/43/ff/74f23998ad2f93b945c0309f825be92e04e0348e062026998b5eefef4c33/fuzzywuzzy-0.18.0-py2.py3-none-any.whl\n",
            "Installing collected packages: fuzzywuzzy\n",
            "Successfully installed fuzzywuzzy-0.18.0\n"
          ],
          "name": "stdout"
        }
      ]
    },
    {
      "cell_type": "code",
      "metadata": {
        "id": "sF0ZKrKM_aBL",
        "colab_type": "code",
        "colab": {
          "base_uri": "https://localhost:8080/",
          "height": 72
        },
        "outputId": "51cb7301-a239-4a6a-cf6f-5bc3c9cbaef7"
      },
      "source": [
        "import matplotlib.pyplot as plt\n",
        "import pandas as pd\n",
        "from scipy.sparse import csr_matrix\n",
        "from sklearn.neighbors import NearestNeighbors\n",
        "from fuzzywuzzy import fuzz\n",
        "import gc"
      ],
      "execution_count": 3,
      "outputs": [
        {
          "output_type": "stream",
          "text": [
            "/usr/local/lib/python3.6/dist-packages/fuzzywuzzy/fuzz.py:11: UserWarning: Using slow pure-python SequenceMatcher. Install python-Levenshtein to remove this warning\n",
            "  warnings.warn('Using slow pure-python SequenceMatcher. Install python-Levenshtein to remove this warning')\n"
          ],
          "name": "stderr"
        }
      ]
    },
    {
      "cell_type": "code",
      "metadata": {
        "id": "onpX7Pgf2Bkb",
        "colab_type": "code",
        "colab": {}
      },
      "source": [
        "import zipfile\n",
        "local_zip = '/tmp/ml-25m.zip'\n",
        "zip_ref = zipfile.ZipFile(local_zip, 'r')\n",
        "zip_ref.extractall('/tmp/')\n",
        "zip_ref.close()"
      ],
      "execution_count": 4,
      "outputs": []
    },
    {
      "cell_type": "code",
      "metadata": {
        "id": "GWBDKpxkxq__",
        "colab_type": "code",
        "colab": {}
      },
      "source": [
        "movies_filename = \"/tmp/ml-25m/movies.csv\"\n",
        "ratings_filename = \"/tmp/ml-25m/ratings.csv\""
      ],
      "execution_count": 5,
      "outputs": []
    },
    {
      "cell_type": "code",
      "metadata": {
        "id": "f99Okg1Fv-Bh",
        "colab_type": "code",
        "colab": {}
      },
      "source": [
        "df_movies = pd.read_csv(\n",
        "            movies_filename,\n",
        "            usecols=['movieId', 'title'],\n",
        "            dtype={'movieId': 'int32', 'title': 'str'})\n",
        "df_ratings = pd.read_csv(\n",
        "            ratings_filename,\n",
        "            usecols=['userId', 'movieId', 'rating'],\n",
        "            dtype={'userId': 'int32', 'movieId': 'int32', 'rating': 'float32'})"
      ],
      "execution_count": 6,
      "outputs": []
    },
    {
      "cell_type": "code",
      "metadata": {
        "id": "VpfR-j-elOSB",
        "colab_type": "code",
        "colab": {
          "base_uri": "https://localhost:8080/",
          "height": 52
        },
        "outputId": "21ee250e-7911-4ff4-b9e9-e2f5edf47616"
      },
      "source": [
        "print(\"Shape of the Movies Dataframe: {}\".format(df_movies.shape))\n",
        "print(\"Shape of the Ratings Dataframe: {}\".format(df_ratings.shape))"
      ],
      "execution_count": 7,
      "outputs": [
        {
          "output_type": "stream",
          "text": [
            "Shape of the Movies Dataframe: (62423, 2)\n",
            "Shape of the Ratings Dataframe: (25000095, 3)\n"
          ],
          "name": "stdout"
        }
      ]
    },
    {
      "cell_type": "code",
      "metadata": {
        "id": "k88GYjDTqaDa",
        "colab_type": "code",
        "colab": {
          "base_uri": "https://localhost:8080/",
          "height": 34
        },
        "outputId": "ce14415e-205f-4fd2-e5f8-cd207527099d"
      },
      "source": [
        "df_ratings=df_ratings[:2000000]\n",
        "print(\"Shape of the Ratings Dataframe: {}\".format(df_ratings.shape))"
      ],
      "execution_count": 8,
      "outputs": [
        {
          "output_type": "stream",
          "text": [
            "Shape of the Ratings Dataframe: (2000000, 3)\n"
          ],
          "name": "stdout"
        }
      ]
    },
    {
      "cell_type": "code",
      "metadata": {
        "id": "McxGpCkFlp5M",
        "colab_type": "code",
        "colab": {
          "base_uri": "https://localhost:8080/",
          "height": 293
        },
        "outputId": "8ef33289-a954-4336-ee1b-fbac1b6bcd7b"
      },
      "source": [
        "df_ratings['movieId'].plot(kind='hist')"
      ],
      "execution_count": 9,
      "outputs": [
        {
          "output_type": "execute_result",
          "data": {
            "text/plain": [
              "<matplotlib.axes._subplots.AxesSubplot at 0x7fbe82957fd0>"
            ]
          },
          "metadata": {
            "tags": []
          },
          "execution_count": 9
        },
        {
          "output_type": "display_data",
          "data": {
            "image/png": "[encoded data removed]",
            "text/plain": [
              "<Figure size 432x288 with 1 Axes>"
            ]
          },
          "metadata": {
            "tags": [],
            "needs_background": "light"
          }
        }
      ]
    },
    {
      "cell_type": "code",
      "metadata": {
        "id": "U8f9pntsyb_X",
        "colab_type": "code",
        "colab": {
          "base_uri": "https://localhost:8080/",
          "height": 34
        },
        "outputId": "13f28c45-18ce-46e7-c889-768fa221e575"
      },
      "source": [
        "movies_count_df = pd.DataFrame(df_ratings.groupby('movieId').size(), columns=['count'])\n",
        "popular_movies = list(set(movies_count_df.query('count >= 50').index))  # noqa\n",
        "movies_filter = df_ratings.movieId.isin(popular_movies).values\n",
        "movies_filter"
      ],
      "execution_count": 10,
      "outputs": [
        {
          "output_type": "execute_result",
          "data": {
            "text/plain": [
              "array([ True,  True,  True, ...,  True,  True,  True])"
            ]
          },
          "metadata": {
            "tags": []
          },
          "execution_count": 10
        }
      ]
    },
    {
      "cell_type": "code",
      "metadata": {
        "id": "68UrnQsvzR-H",
        "colab_type": "code",
        "colab": {
          "base_uri": "https://localhost:8080/",
          "height": 34
        },
        "outputId": "6d97af3d-4465-4bae-be29-c8a750f71ea7"
      },
      "source": [
        "users_count_df = pd.DataFrame(df_ratings.groupby('userId').size(),columns=['count'])\n",
        "active_users = list(set(users_count_df.query('count >= 50').index))  # noqa\n",
        "users_filter = df_ratings.userId.isin(active_users).values\n",
        "users_filter"
      ],
      "execution_count": 11,
      "outputs": [
        {
          "output_type": "execute_result",
          "data": {
            "text/plain": [
              "array([ True,  True,  True, ..., False, False, False])"
            ]
          },
          "metadata": {
            "tags": []
          },
          "execution_count": 11
        }
      ]
    },
    {
      "cell_type": "code",
      "metadata": {
        "id": "u-YFOPpazpc2",
        "colab_type": "code",
        "colab": {
          "base_uri": "https://localhost:8080/",
          "height": 34
        },
        "outputId": "b002765d-12dc-4735-e9ce-a8763d92e67c"
      },
      "source": [
        "filtered_ratings_df = df_ratings[movies_filter & users_filter]\n",
        "filtered_ratings_df.shape"
      ],
      "execution_count": 12,
      "outputs": [
        {
          "output_type": "execute_result",
          "data": {
            "text/plain": [
              "(1691783, 3)"
            ]
          },
          "metadata": {
            "tags": []
          },
          "execution_count": 12
        }
      ]
    },
    {
      "cell_type": "code",
      "metadata": {
        "id": "FTaIWV93z_xe",
        "colab_type": "code",
        "colab": {
          "base_uri": "https://localhost:8080/",
          "height": 276
        },
        "outputId": "657c13ff-a3dc-45d0-e17b-f9f27ba04700"
      },
      "source": [
        "movie_user_mat = filtered_ratings_df.pivot(index='movieId', columns='userId', values='rating').fillna(0)\n",
        "movie_user_mat.head()"
      ],
      "execution_count": 13,
      "outputs": [
        {
          "output_type": "execute_result",
          "data": {
            "text/html": [
              "<div>\n",
              "<style scoped>\n",
              "    .dataframe tbody tr th:only-of-type {\n",
              "        vertical-align: middle;\n",
              "    }\n",
              "\n",
              "    .dataframe tbody tr th {\n",
              "        vertical-align: top;\n",
              "    }\n",
              "\n",
              "    .dataframe thead th {\n",
              "        text-align: right;\n",
              "    }\n",
              "</style>\n",
              "<table border=\"1\" class=\"dataframe\">\n",
              "  <thead>\n",
              "    <tr style=\"text-align: right;\">\n",
              "      <th>userId</th>\n",
              "      <th>1</th>\n",
              "      <th>2</th>\n",
              "      <th>3</th>\n",
              "      <th>4</th>\n",
              "      <th>5</th>\n",
              "      <th>8</th>\n",
              "      <th>9</th>\n",
              "      <th>10</th>\n",
              "      <th>12</th>\n",
              "      <th>13</th>\n",
              "      <th>15</th>\n",
              "      <th>18</th>\n",
              "      <th>19</th>\n",
              "      <th>20</th>\n",
              "      <th>21</th>\n",
              "      <th>23</th>\n",
              "      <th>25</th>\n",
              "      <th>27</th>\n",
              "      <th>31</th>\n",
              "      <th>35</th>\n",
              "      <th>36</th>\n",
              "      <th>37</th>\n",
              "      <th>38</th>\n",
              "      <th>40</th>\n",
              "      <th>41</th>\n",
              "      <th>43</th>\n",
              "      <th>44</th>\n",
              "      <th>46</th>\n",
              "      <th>47</th>\n",
              "      <th>50</th>\n",
              "      <th>55</th>\n",
              "      <th>57</th>\n",
              "      <th>58</th>\n",
              "      <th>59</th>\n",
              "      <th>60</th>\n",
              "      <th>61</th>\n",
              "      <th>62</th>\n",
              "      <th>64</th>\n",
              "      <th>66</th>\n",
              "      <th>67</th>\n",
              "      <th>...</th>\n",
              "      <th>13255</th>\n",
              "      <th>13256</th>\n",
              "      <th>13257</th>\n",
              "      <th>13258</th>\n",
              "      <th>13259</th>\n",
              "      <th>13260</th>\n",
              "      <th>13261</th>\n",
              "      <th>13264</th>\n",
              "      <th>13266</th>\n",
              "      <th>13267</th>\n",
              "      <th>13270</th>\n",
              "      <th>13272</th>\n",
              "      <th>13280</th>\n",
              "      <th>13281</th>\n",
              "      <th>13282</th>\n",
              "      <th>13283</th>\n",
              "      <th>13285</th>\n",
              "      <th>13288</th>\n",
              "      <th>13289</th>\n",
              "      <th>13290</th>\n",
              "      <th>13291</th>\n",
              "      <th>13292</th>\n",
              "      <th>13295</th>\n",
              "      <th>13298</th>\n",
              "      <th>13299</th>\n",
              "      <th>13300</th>\n",
              "      <th>13301</th>\n",
              "      <th>13303</th>\n",
              "      <th>13304</th>\n",
              "      <th>13305</th>\n",
              "      <th>13306</th>\n",
              "      <th>13307</th>\n",
              "      <th>13308</th>\n",
              "      <th>13309</th>\n",
              "      <th>13310</th>\n",
              "      <th>13312</th>\n",
              "      <th>13313</th>\n",
              "      <th>13314</th>\n",
              "      <th>13315</th>\n",
              "      <th>13321</th>\n",
              "    </tr>\n",
              "    <tr>\n",
              "      <th>movieId</th>\n",
              "      <th></th>\n",
              "      <th></th>\n",
              "      <th></th>\n",
              "      <th></th>\n",
              "      <th></th>\n",
              "      <th></th>\n",
              "      <th></th>\n",
              "      <th></th>\n",
              "      <th></th>\n",
              "      <th></th>\n",
              "      <th></th>\n",
              "      <th></th>\n",
              "      <th></th>\n",
              "      <th></th>\n",
              "      <th></th>\n",
              "      <th></th>\n",
              "      <th></th>\n",
              "      <th></th>\n",
              "      <th></th>\n",
              "      <th></th>\n",
              "      <th></th>\n",
              "      <th></th>\n",
              "      <th></th>\n",
              "      <th></th>\n",
              "      <th></th>\n",
              "      <th></th>\n",
              "      <th></th>\n",
              "      <th></th>\n",
              "      <th></th>\n",
              "      <th></th>\n",
              "      <th></th>\n",
              "      <th></th>\n",
              "      <th></th>\n",
              "      <th></th>\n",
              "      <th></th>\n",
              "      <th></th>\n",
              "      <th></th>\n",
              "      <th></th>\n",
              "      <th></th>\n",
              "      <th></th>\n",
              "      <th></th>\n",
              "      <th></th>\n",
              "      <th></th>\n",
              "      <th></th>\n",
              "      <th></th>\n",
              "      <th></th>\n",
              "      <th></th>\n",
              "      <th></th>\n",
              "      <th></th>\n",
              "      <th></th>\n",
              "      <th></th>\n",
              "      <th></th>\n",
              "      <th></th>\n",
              "      <th></th>\n",
              "      <th></th>\n",
              "      <th></th>\n",
              "      <th></th>\n",
              "      <th></th>\n",
              "      <th></th>\n",
              "      <th></th>\n",
              "      <th></th>\n",
              "      <th></th>\n",
              "      <th></th>\n",
              "      <th></th>\n",
              "      <th></th>\n",
              "      <th></th>\n",
              "      <th></th>\n",
              "      <th></th>\n",
              "      <th></th>\n",
              "      <th></th>\n",
              "      <th></th>\n",
              "      <th></th>\n",
              "      <th></th>\n",
              "      <th></th>\n",
              "      <th></th>\n",
              "      <th></th>\n",
              "      <th></th>\n",
              "      <th></th>\n",
              "      <th></th>\n",
              "      <th></th>\n",
              "      <th></th>\n",
              "    </tr>\n",
              "  </thead>\n",
              "  <tbody>\n",
              "    <tr>\n",
              "      <th>1</th>\n",
              "      <td>0.0</td>\n",
              "      <td>3.5</td>\n",
              "      <td>4.0</td>\n",
              "      <td>3.0</td>\n",
              "      <td>4.0</td>\n",
              "      <td>4.0</td>\n",
              "      <td>0.0</td>\n",
              "      <td>3.5</td>\n",
              "      <td>4.0</td>\n",
              "      <td>4.0</td>\n",
              "      <td>0.0</td>\n",
              "      <td>3.0</td>\n",
              "      <td>0.0</td>\n",
              "      <td>0.0</td>\n",
              "      <td>0.0</td>\n",
              "      <td>0.0</td>\n",
              "      <td>0.0</td>\n",
              "      <td>0.0</td>\n",
              "      <td>0.0</td>\n",
              "      <td>0.0</td>\n",
              "      <td>5.0</td>\n",
              "      <td>0.0</td>\n",
              "      <td>0.0</td>\n",
              "      <td>0.0</td>\n",
              "      <td>0.0</td>\n",
              "      <td>4.0</td>\n",
              "      <td>0.0</td>\n",
              "      <td>0.0</td>\n",
              "      <td>2.0</td>\n",
              "      <td>4.0</td>\n",
              "      <td>0.0</td>\n",
              "      <td>4.0</td>\n",
              "      <td>0.0</td>\n",
              "      <td>0.0</td>\n",
              "      <td>0.0</td>\n",
              "      <td>0.0</td>\n",
              "      <td>0.0</td>\n",
              "      <td>4.0</td>\n",
              "      <td>3.0</td>\n",
              "      <td>3.0</td>\n",
              "      <td>...</td>\n",
              "      <td>1.0</td>\n",
              "      <td>4.0</td>\n",
              "      <td>0.5</td>\n",
              "      <td>0.0</td>\n",
              "      <td>0.0</td>\n",
              "      <td>0.0</td>\n",
              "      <td>0.0</td>\n",
              "      <td>0.0</td>\n",
              "      <td>0.0</td>\n",
              "      <td>4.0</td>\n",
              "      <td>0.0</td>\n",
              "      <td>3.0</td>\n",
              "      <td>4.5</td>\n",
              "      <td>0.0</td>\n",
              "      <td>4.0</td>\n",
              "      <td>0.0</td>\n",
              "      <td>5.0</td>\n",
              "      <td>4.0</td>\n",
              "      <td>0.0</td>\n",
              "      <td>0.0</td>\n",
              "      <td>5.0</td>\n",
              "      <td>0.0</td>\n",
              "      <td>4.5</td>\n",
              "      <td>2.0</td>\n",
              "      <td>0.0</td>\n",
              "      <td>3.5</td>\n",
              "      <td>0.0</td>\n",
              "      <td>3.0</td>\n",
              "      <td>3.0</td>\n",
              "      <td>3.5</td>\n",
              "      <td>3.0</td>\n",
              "      <td>5.0</td>\n",
              "      <td>5.0</td>\n",
              "      <td>0.0</td>\n",
              "      <td>0.0</td>\n",
              "      <td>0.0</td>\n",
              "      <td>0.0</td>\n",
              "      <td>0.0</td>\n",
              "      <td>4.0</td>\n",
              "      <td>4.0</td>\n",
              "    </tr>\n",
              "    <tr>\n",
              "      <th>2</th>\n",
              "      <td>0.0</td>\n",
              "      <td>0.0</td>\n",
              "      <td>0.0</td>\n",
              "      <td>0.0</td>\n",
              "      <td>0.0</td>\n",
              "      <td>0.0</td>\n",
              "      <td>5.0</td>\n",
              "      <td>0.0</td>\n",
              "      <td>2.0</td>\n",
              "      <td>0.0</td>\n",
              "      <td>0.0</td>\n",
              "      <td>0.0</td>\n",
              "      <td>3.5</td>\n",
              "      <td>2.5</td>\n",
              "      <td>0.0</td>\n",
              "      <td>0.0</td>\n",
              "      <td>0.0</td>\n",
              "      <td>0.0</td>\n",
              "      <td>0.0</td>\n",
              "      <td>3.0</td>\n",
              "      <td>0.0</td>\n",
              "      <td>0.0</td>\n",
              "      <td>0.0</td>\n",
              "      <td>0.0</td>\n",
              "      <td>0.0</td>\n",
              "      <td>3.5</td>\n",
              "      <td>0.0</td>\n",
              "      <td>0.0</td>\n",
              "      <td>0.0</td>\n",
              "      <td>0.0</td>\n",
              "      <td>0.0</td>\n",
              "      <td>0.0</td>\n",
              "      <td>0.0</td>\n",
              "      <td>0.0</td>\n",
              "      <td>0.0</td>\n",
              "      <td>4.0</td>\n",
              "      <td>0.0</td>\n",
              "      <td>0.0</td>\n",
              "      <td>0.0</td>\n",
              "      <td>4.0</td>\n",
              "      <td>...</td>\n",
              "      <td>0.0</td>\n",
              "      <td>0.0</td>\n",
              "      <td>0.0</td>\n",
              "      <td>0.0</td>\n",
              "      <td>3.0</td>\n",
              "      <td>0.0</td>\n",
              "      <td>0.0</td>\n",
              "      <td>0.0</td>\n",
              "      <td>0.0</td>\n",
              "      <td>0.0</td>\n",
              "      <td>0.0</td>\n",
              "      <td>0.0</td>\n",
              "      <td>0.0</td>\n",
              "      <td>0.0</td>\n",
              "      <td>0.0</td>\n",
              "      <td>0.0</td>\n",
              "      <td>0.0</td>\n",
              "      <td>0.0</td>\n",
              "      <td>0.0</td>\n",
              "      <td>0.0</td>\n",
              "      <td>0.0</td>\n",
              "      <td>0.0</td>\n",
              "      <td>0.0</td>\n",
              "      <td>0.0</td>\n",
              "      <td>0.0</td>\n",
              "      <td>0.0</td>\n",
              "      <td>0.0</td>\n",
              "      <td>0.0</td>\n",
              "      <td>0.0</td>\n",
              "      <td>0.0</td>\n",
              "      <td>0.0</td>\n",
              "      <td>1.0</td>\n",
              "      <td>2.0</td>\n",
              "      <td>0.0</td>\n",
              "      <td>0.0</td>\n",
              "      <td>0.0</td>\n",
              "      <td>4.0</td>\n",
              "      <td>0.0</td>\n",
              "      <td>0.0</td>\n",
              "      <td>0.0</td>\n",
              "    </tr>\n",
              "    <tr>\n",
              "      <th>3</th>\n",
              "      <td>0.0</td>\n",
              "      <td>0.0</td>\n",
              "      <td>0.0</td>\n",
              "      <td>0.0</td>\n",
              "      <td>0.0</td>\n",
              "      <td>4.0</td>\n",
              "      <td>0.0</td>\n",
              "      <td>0.0</td>\n",
              "      <td>2.0</td>\n",
              "      <td>0.0</td>\n",
              "      <td>0.0</td>\n",
              "      <td>1.5</td>\n",
              "      <td>0.0</td>\n",
              "      <td>0.0</td>\n",
              "      <td>0.0</td>\n",
              "      <td>5.0</td>\n",
              "      <td>0.0</td>\n",
              "      <td>0.0</td>\n",
              "      <td>0.0</td>\n",
              "      <td>0.0</td>\n",
              "      <td>0.0</td>\n",
              "      <td>0.0</td>\n",
              "      <td>0.0</td>\n",
              "      <td>0.0</td>\n",
              "      <td>0.0</td>\n",
              "      <td>0.0</td>\n",
              "      <td>0.0</td>\n",
              "      <td>0.0</td>\n",
              "      <td>0.0</td>\n",
              "      <td>0.0</td>\n",
              "      <td>0.0</td>\n",
              "      <td>3.5</td>\n",
              "      <td>5.0</td>\n",
              "      <td>0.0</td>\n",
              "      <td>0.0</td>\n",
              "      <td>0.0</td>\n",
              "      <td>0.0</td>\n",
              "      <td>0.0</td>\n",
              "      <td>0.0</td>\n",
              "      <td>0.0</td>\n",
              "      <td>...</td>\n",
              "      <td>0.0</td>\n",
              "      <td>0.0</td>\n",
              "      <td>0.0</td>\n",
              "      <td>0.0</td>\n",
              "      <td>0.0</td>\n",
              "      <td>0.0</td>\n",
              "      <td>0.0</td>\n",
              "      <td>0.0</td>\n",
              "      <td>0.0</td>\n",
              "      <td>2.0</td>\n",
              "      <td>0.0</td>\n",
              "      <td>0.0</td>\n",
              "      <td>0.0</td>\n",
              "      <td>0.0</td>\n",
              "      <td>0.0</td>\n",
              "      <td>0.0</td>\n",
              "      <td>3.0</td>\n",
              "      <td>0.0</td>\n",
              "      <td>0.0</td>\n",
              "      <td>0.0</td>\n",
              "      <td>0.0</td>\n",
              "      <td>0.0</td>\n",
              "      <td>0.0</td>\n",
              "      <td>0.0</td>\n",
              "      <td>0.0</td>\n",
              "      <td>0.0</td>\n",
              "      <td>0.0</td>\n",
              "      <td>0.0</td>\n",
              "      <td>0.0</td>\n",
              "      <td>0.0</td>\n",
              "      <td>0.0</td>\n",
              "      <td>4.0</td>\n",
              "      <td>0.0</td>\n",
              "      <td>0.0</td>\n",
              "      <td>0.0</td>\n",
              "      <td>0.0</td>\n",
              "      <td>0.0</td>\n",
              "      <td>0.0</td>\n",
              "      <td>0.0</td>\n",
              "      <td>0.0</td>\n",
              "    </tr>\n",
              "    <tr>\n",
              "      <th>4</th>\n",
              "      <td>0.0</td>\n",
              "      <td>0.0</td>\n",
              "      <td>0.0</td>\n",
              "      <td>0.0</td>\n",
              "      <td>0.0</td>\n",
              "      <td>0.0</td>\n",
              "      <td>0.0</td>\n",
              "      <td>0.0</td>\n",
              "      <td>0.0</td>\n",
              "      <td>0.0</td>\n",
              "      <td>0.0</td>\n",
              "      <td>0.0</td>\n",
              "      <td>0.0</td>\n",
              "      <td>0.0</td>\n",
              "      <td>0.0</td>\n",
              "      <td>0.0</td>\n",
              "      <td>0.0</td>\n",
              "      <td>0.0</td>\n",
              "      <td>0.0</td>\n",
              "      <td>0.0</td>\n",
              "      <td>0.0</td>\n",
              "      <td>0.0</td>\n",
              "      <td>0.0</td>\n",
              "      <td>0.0</td>\n",
              "      <td>0.0</td>\n",
              "      <td>0.0</td>\n",
              "      <td>0.0</td>\n",
              "      <td>0.0</td>\n",
              "      <td>0.0</td>\n",
              "      <td>0.0</td>\n",
              "      <td>0.0</td>\n",
              "      <td>0.0</td>\n",
              "      <td>0.0</td>\n",
              "      <td>0.0</td>\n",
              "      <td>0.0</td>\n",
              "      <td>0.0</td>\n",
              "      <td>0.0</td>\n",
              "      <td>0.0</td>\n",
              "      <td>0.0</td>\n",
              "      <td>0.0</td>\n",
              "      <td>...</td>\n",
              "      <td>0.0</td>\n",
              "      <td>0.0</td>\n",
              "      <td>0.0</td>\n",
              "      <td>0.0</td>\n",
              "      <td>0.0</td>\n",
              "      <td>0.0</td>\n",
              "      <td>0.0</td>\n",
              "      <td>0.0</td>\n",
              "      <td>0.0</td>\n",
              "      <td>0.0</td>\n",
              "      <td>0.0</td>\n",
              "      <td>0.0</td>\n",
              "      <td>0.0</td>\n",
              "      <td>0.0</td>\n",
              "      <td>0.0</td>\n",
              "      <td>0.0</td>\n",
              "      <td>0.0</td>\n",
              "      <td>0.0</td>\n",
              "      <td>0.0</td>\n",
              "      <td>0.0</td>\n",
              "      <td>0.0</td>\n",
              "      <td>0.0</td>\n",
              "      <td>0.0</td>\n",
              "      <td>0.0</td>\n",
              "      <td>0.0</td>\n",
              "      <td>0.0</td>\n",
              "      <td>0.0</td>\n",
              "      <td>0.0</td>\n",
              "      <td>0.0</td>\n",
              "      <td>0.0</td>\n",
              "      <td>0.0</td>\n",
              "      <td>0.0</td>\n",
              "      <td>0.0</td>\n",
              "      <td>0.0</td>\n",
              "      <td>0.0</td>\n",
              "      <td>0.0</td>\n",
              "      <td>0.0</td>\n",
              "      <td>0.0</td>\n",
              "      <td>0.0</td>\n",
              "      <td>0.0</td>\n",
              "    </tr>\n",
              "    <tr>\n",
              "      <th>5</th>\n",
              "      <td>0.0</td>\n",
              "      <td>0.0</td>\n",
              "      <td>0.0</td>\n",
              "      <td>0.0</td>\n",
              "      <td>0.0</td>\n",
              "      <td>0.0</td>\n",
              "      <td>0.0</td>\n",
              "      <td>0.0</td>\n",
              "      <td>0.0</td>\n",
              "      <td>0.0</td>\n",
              "      <td>0.0</td>\n",
              "      <td>4.0</td>\n",
              "      <td>0.0</td>\n",
              "      <td>0.0</td>\n",
              "      <td>0.0</td>\n",
              "      <td>0.0</td>\n",
              "      <td>0.0</td>\n",
              "      <td>0.0</td>\n",
              "      <td>0.0</td>\n",
              "      <td>0.0</td>\n",
              "      <td>0.0</td>\n",
              "      <td>0.0</td>\n",
              "      <td>0.0</td>\n",
              "      <td>0.0</td>\n",
              "      <td>0.0</td>\n",
              "      <td>0.0</td>\n",
              "      <td>0.0</td>\n",
              "      <td>0.0</td>\n",
              "      <td>0.0</td>\n",
              "      <td>0.0</td>\n",
              "      <td>0.0</td>\n",
              "      <td>0.0</td>\n",
              "      <td>0.0</td>\n",
              "      <td>0.0</td>\n",
              "      <td>0.0</td>\n",
              "      <td>3.0</td>\n",
              "      <td>0.0</td>\n",
              "      <td>0.0</td>\n",
              "      <td>0.0</td>\n",
              "      <td>0.0</td>\n",
              "      <td>...</td>\n",
              "      <td>0.0</td>\n",
              "      <td>0.0</td>\n",
              "      <td>0.0</td>\n",
              "      <td>0.0</td>\n",
              "      <td>0.0</td>\n",
              "      <td>0.0</td>\n",
              "      <td>0.0</td>\n",
              "      <td>0.0</td>\n",
              "      <td>0.0</td>\n",
              "      <td>0.0</td>\n",
              "      <td>0.0</td>\n",
              "      <td>0.0</td>\n",
              "      <td>0.0</td>\n",
              "      <td>0.0</td>\n",
              "      <td>0.0</td>\n",
              "      <td>0.0</td>\n",
              "      <td>0.0</td>\n",
              "      <td>0.0</td>\n",
              "      <td>0.0</td>\n",
              "      <td>0.0</td>\n",
              "      <td>0.0</td>\n",
              "      <td>0.0</td>\n",
              "      <td>0.0</td>\n",
              "      <td>0.0</td>\n",
              "      <td>0.0</td>\n",
              "      <td>0.0</td>\n",
              "      <td>0.0</td>\n",
              "      <td>3.0</td>\n",
              "      <td>0.0</td>\n",
              "      <td>0.0</td>\n",
              "      <td>0.0</td>\n",
              "      <td>4.0</td>\n",
              "      <td>0.0</td>\n",
              "      <td>0.0</td>\n",
              "      <td>0.0</td>\n",
              "      <td>0.0</td>\n",
              "      <td>0.0</td>\n",
              "      <td>0.0</td>\n",
              "      <td>0.0</td>\n",
              "      <td>0.0</td>\n",
              "    </tr>\n",
              "  </tbody>\n",
              "</table>\n",
              "<p>5 rows × 8313 columns</p>\n",
              "</div>"
            ],
            "text/plain": [
              "userId   1      2      3      4      5      ...  13312  13313  13314  13315  13321\n",
              "movieId                                     ...                                   \n",
              "1          0.0    3.5    4.0    3.0    4.0  ...    0.0    0.0    0.0    4.0    4.0\n",
              "2          0.0    0.0    0.0    0.0    0.0  ...    0.0    4.0    0.0    0.0    0.0\n",
              "3          0.0    0.0    0.0    0.0    0.0  ...    0.0    0.0    0.0    0.0    0.0\n",
              "4          0.0    0.0    0.0    0.0    0.0  ...    0.0    0.0    0.0    0.0    0.0\n",
              "5          0.0    0.0    0.0    0.0    0.0  ...    0.0    0.0    0.0    0.0    0.0\n",
              "\n",
              "[5 rows x 8313 columns]"
            ]
          },
          "metadata": {
            "tags": []
          },
          "execution_count": 13
        }
      ]
    },
    {
      "cell_type": "code",
      "metadata": {
        "id": "Bb6yBwT_0E2G",
        "colab_type": "code",
        "colab": {}
      },
      "source": [
        "movie_titles_dict = { movie: i for i, movie in \n",
        "                     enumerate(list(df_movies.set_index('movieId').loc[movie_user_mat.index].title))   }"
      ],
      "execution_count": 14,
      "outputs": []
    },
    {
      "cell_type": "code",
      "metadata": {
        "id": "pqrNSrmE0FRX",
        "colab_type": "code",
        "colab": {
          "base_uri": "https://localhost:8080/",
          "height": 52
        },
        "outputId": "7636bfca-5100-40e8-cb21-e47975f98940"
      },
      "source": [
        "movie_user_mat_sparse = csr_matrix(movie_user_mat.values)\n",
        "movie_user_mat_sparse\n"
      ],
      "execution_count": 15,
      "outputs": [
        {
          "output_type": "execute_result",
          "data": {
            "text/plain": [
              "<4870x8313 sparse matrix of type '<class 'numpy.float32'>'\n",
              "\twith 1691783 stored elements in Compressed Sparse Row format>"
            ]
          },
          "metadata": {
            "tags": []
          },
          "execution_count": 15
        }
      ]
    },
    {
      "cell_type": "code",
      "metadata": {
        "id": "ocyTnyFi1LHI",
        "colab_type": "code",
        "colab": {
          "base_uri": "https://localhost:8080/",
          "height": 34
        },
        "outputId": "26e36b97-660b-483d-a693-2a94b7b5d7eb"
      },
      "source": [
        "del df_movies, movies_count_df, users_count_df\n",
        "del df_ratings, filtered_ratings_df, movie_user_mat\n",
        "gc.collect() "
      ],
      "execution_count": 16,
      "outputs": [
        {
          "output_type": "execute_result",
          "data": {
            "text/plain": [
              "32"
            ]
          },
          "metadata": {
            "tags": []
          },
          "execution_count": 16
        }
      ]
    },
    {
      "cell_type": "markdown",
      "metadata": {
        "id": "Y2Pwxsz96Pv3",
        "colab_type": "text"
      },
      "source": [
        "The below function\n",
        "----------\n",
        "        return the closest match via fuzzy ratio.\n",
        "        If no match found, return None\n",
        "        Parameters\n",
        "        \n",
        "        movie_titles_dict: dict, map movie title name to index of the movie in data\n",
        "        movie_name: str, name of user input movie\n",
        "        Return\n",
        "        \n",
        "        index of the closest match\n",
        "------"
      ]
    },
    {
      "cell_type": "code",
      "metadata": {
        "id": "00Lt677R5qh7",
        "colab_type": "code",
        "colab": {}
      },
      "source": [
        "def get_fuzz_matching(movie_titles_dict, movie_name):\n",
        "        match = []\n",
        "        # get match\n",
        "        for title, index in movie_titles_dict.items():\n",
        "            ratio = fuzz.ratio(title.lower(), movie_name.lower())\n",
        "            if ratio >= 60:\n",
        "                match.append((title, index, ratio))\n",
        "        # sort\n",
        "        match = sorted(match, key=lambda x: x[2])[::-1]\n",
        "        if not match:\n",
        "            print('Sorry We found no similar movies related to {}'.format(movie_name))\n",
        "        else:\n",
        "            print('Found Similar movies : '\n",
        "                  '{0}\\n'.format([x[0] for x in match]))\n",
        "            return match[0][1]"
      ],
      "execution_count": 17,
      "outputs": []
    },
    {
      "cell_type": "markdown",
      "metadata": {
        "id": "V6oOLggo7_Y_",
        "colab_type": "text"
      },
      "source": [
        "The below function get_recommendations takes below number of arguments\n",
        "----------\n",
        "        make top n movie recommendations\n",
        "        Parameters\n",
        "        \n",
        "        fav_movie: str, name of user input movie\n",
        "        n_recommendations: int, top n recommendations\n",
        "        movie_user_mat_sparse: movie-user scipy sparse matrix\n",
        "        movie_titles_dict: dict, map movie title name to index of the movie in data\n",
        "----------\n",
        "----------\n",
        "        set model params for sklearn.neighbors.NearestNeighbors\n",
        "        Parameters\n",
        "        n_neighbors: int, optional (default = 5)\n",
        "        algorithm: {'auto', 'ball_tree', 'kd_tree', 'brute'}, optional\n",
        "        metric: string or callable, default 'minkowski', or one of\n",
        "            ['cityblock', 'cosine', 'euclidean', 'l1', 'l2', 'manhattan']\n",
        "        n_jobs: int or None, optional (default=None)\n",
        "-----------"
      ]
    },
    {
      "cell_type": "code",
      "metadata": {
        "id": "itFszIvE2-U9",
        "colab_type": "code",
        "colab": {}
      },
      "source": [
        " def get_recommendations(movie_name, Number_of_recommendations,movie_user_mat_sparse,movie_titles_dict):\n",
        "        #Model\n",
        "        model=NearestNeighbors(n_neighbors=Number_of_recommendations,algorithm='brute',metric='cosine')\n",
        "        \n",
        "        #Fit the model with sparse matrix data\n",
        "        model.fit(movie_user_mat_sparse)\n",
        "\n",
        "        print('You have input movie:', movie_name)\n",
        "        print('Number of Recommendations requested :', Number_of_recommendations)\n",
        "\n",
        "        #Get Nearest Fuzz Ratio\n",
        "        index = get_fuzz_matching(movie_titles_dict, movie_name)\n",
        "        \n",
        "        #Get Indices and Distances of Nearest neighbors\n",
        "        distances, indices = model.kneighbors(\n",
        "            movie_user_mat_sparse[index],\n",
        "            n_neighbors=Number_of_recommendations+1)\n",
        "        # # get recommendations\n",
        "        recommendations = sorted(list(zip(\n",
        "                        indices.squeeze().tolist(),\n",
        "                        distances.squeeze().tolist()\n",
        "                    )),key=lambda x: x[1])[:0:-1]\n",
        "        # print results\n",
        "        return recommendations"
      ],
      "execution_count": 18,
      "outputs": []
    },
    {
      "cell_type": "code",
      "metadata": {
        "id": "OUlnARXF9Bcf",
        "colab_type": "code",
        "colab": {
          "base_uri": "https://localhost:8080/",
          "height": 407
        },
        "outputId": "d11d2f2c-2be2-4d14-f4d8-c6639deb56fe"
      },
      "source": [
        "movie_name=str(input(\"Enter a movie name: \"))\n",
        "Number_of_recommendations=int(input(\"Enter Number of Similar Movies: \"))\n",
        "recommendations=get_recommendations(movie_name, Number_of_recommendations,movie_user_mat_sparse,movie_titles_dict)\n",
        "reverse_movie_titles_dict = {v: k for k, v in movie_titles_dict.items()}\n",
        "print('Recommendations for {}:'.format(movie_name))\n",
        "for i, (index, distance) in enumerate(recommendations):\n",
        "  print('{0}: {1}, with distance of {2}'.format(i+1, reverse_movie_titles_dict[index], distance))"
      ],
      "execution_count": 19,
      "outputs": [
        {
          "output_type": "stream",
          "text": [
            "Enter a movie name: Iron Man\n",
            "Enter Number of Similar Movies: 15\n",
            "You have input movie: Iron Man\n",
            "Number of Recommendations requested : 15\n",
            "Found Similar movies : ['Iron Man (2008)', 'Iron Man 3 (2013)', 'Iron Man 2 (2010)']\n",
            "\n",
            "Recommendations for Iron Man:\n",
            "1: Bourne Ultimatum, The (2007), with distance of 0.44641149044036865\n",
            "2: Lord of the Rings: The Return of the King, The (2003), with distance of 0.44472944736480713\n",
            "3: Sherlock Holmes (2009), with distance of 0.43893349170684814\n",
            "4: Casino Royale (2006), with distance of 0.4377186894416809\n",
            "5: Up (2009), with distance of 0.4376955032348633\n",
            "6: Guardians of the Galaxy (2014), with distance of 0.4140666127204895\n",
            "7: Dark Knight Rises, The (2012), with distance of 0.41396188735961914\n",
            "8: Inception (2010), with distance of 0.4026440978050232\n",
            "9: Star Trek (2009), with distance of 0.3991345763206482\n",
            "10: WALL·E (2008), with distance of 0.3928523659706116\n",
            "11: Avatar (2009), with distance of 0.3830743432044983\n",
            "12: Batman Begins (2005), with distance of 0.37248915433883667\n",
            "13: Iron Man 2 (2010), with distance of 0.37099575996398926\n",
            "14: Avengers, The (2012), with distance of 0.35042130947113037\n",
            "15: Dark Knight, The (2008), with distance of 0.2977501153945923\n"
          ],
          "name": "stdout"
        }
      ]
    },
    {
      "cell_type": "markdown",
      "metadata": {
        "id": "ozoiQxhEq5xE",
        "colab_type": "text"
      },
      "source": [
        "------------\n",
        "# **Solving Data Sparcity Problem using Matrix Factorization:- Effective Dimension Reduction Technique**.\n",
        "------------\n",
        "\n",
        "\n"
      ]
    },
    {
      "cell_type": "code",
      "metadata": {
        "id": "EMA3X0FIq5MV",
        "colab_type": "code",
        "colab": {
          "base_uri": "https://localhost:8080/",
          "height": 267
        },
        "outputId": "051108be-cfd7-4931-be54-b468f0178c8d"
      },
      "source": [
        "pip install pyspark"
      ],
      "execution_count": 20,
      "outputs": [
        {
          "output_type": "stream",
          "text": [
            "Collecting pyspark\n",
            "\u001b[?25l  Downloading https://files.pythonhosted.org/packages/8e/b0/bf9020b56492281b9c9d8aae8f44ff51e1bc91b3ef5a884385cb4e389a40/pyspark-3.0.0.tar.gz (204.7MB)\n",
            "\u001b[K     |████████████████████████████████| 204.7MB 66kB/s \n",
            "\u001b[?25hCollecting py4j==0.10.9\n",
            "\u001b[?25l  Downloading https://files.pythonhosted.org/packages/9e/b6/6a4fb90cd235dc8e265a6a2067f2a2c99f0d91787f06aca4bcf7c23f3f80/py4j-0.10.9-py2.py3-none-any.whl (198kB)\n",
            "\u001b[K     |████████████████████████████████| 204kB 27.0MB/s \n",
            "\u001b[?25hBuilding wheels for collected packages: pyspark\n",
            "  Building wheel for pyspark (setup.py) ... \u001b[?25l\u001b[?25hdone\n",
            "  Created wheel for pyspark: filename=pyspark-3.0.0-py2.py3-none-any.whl size=205044182 sha256=dd7c20cff841e4ff9562f3b4f456e4e39b41efd5c78eda58560a914b0ec6911f\n",
            "  Stored in directory: /root/.cache/pip/wheels/57/27/4d/ddacf7143f8d5b76c45c61ee2e43d9f8492fc5a8e78ebd7d37\n",
            "Successfully built pyspark\n",
            "Installing collected packages: py4j, pyspark\n",
            "Successfully installed py4j-0.10.9 pyspark-3.0.0\n"
          ],
          "name": "stdout"
        }
      ]
    },
    {
      "cell_type": "code",
      "metadata": {
        "id": "asJMGxaYvO3g",
        "colab_type": "code",
        "colab": {}
      },
      "source": [
        "from pyspark.sql import SparkSession\n",
        "from pyspark.sql.functions import UserDefinedFunction, explode, desc\n",
        "from pyspark.sql.types import StringType, ArrayType\n",
        "from pyspark.mllib.recommendation import ALS"
      ],
      "execution_count": 21,
      "outputs": []
    },
    {
      "cell_type": "code",
      "metadata": {
        "id": "xxImHDdtv7oN",
        "colab_type": "code",
        "colab": {}
      },
      "source": [
        "# spark config\n",
        "spark = SparkSession \\\n",
        "    .builder \\\n",
        "    .appName(\"movie recommendation\") \\\n",
        "    .config(\"spark.driver.maxResultSize\", \"96g\") \\\n",
        "    .config(\"spark.driver.memory\", \"96g\") \\\n",
        "    .config(\"spark.executor.memory\", \"8g\") \\\n",
        "    .config(\"spark.master\", \"local[12]\") \\\n",
        "    .getOrCreate()\n",
        "# get spark context\n",
        "sc = spark.sparkContext"
      ],
      "execution_count": 22,
      "outputs": []
    },
    {
      "cell_type": "code",
      "metadata": {
        "id": "ylUYueN_wDGs",
        "colab_type": "code",
        "colab": {}
      },
      "source": [
        "data_path='/tmp/ml-25m/'\n",
        "movies = spark.read.load(data_path+'movies.csv', format='csv', header=True, inferSchema=True)\n",
        "ratings = spark.read.load(data_path+'ratings.csv', format='csv', header=True, inferSchema=True)\n",
        "links = spark.read.load(data_path+'links.csv', format='csv', header=True, inferSchema=True)\n",
        "tags = spark.read.load(data_path+'tags.csv', format='csv', header=True, inferSchema=True)"
      ],
      "execution_count": 23,
      "outputs": []
    },
    {
      "cell_type": "code",
      "metadata": {
        "id": "15UDAeWcxQ1E",
        "colab_type": "code",
        "colab": {
          "base_uri": "https://localhost:8080/",
          "height": 870
        },
        "outputId": "05e9ed30-aa46-4078-f795-603226b128e8"
      },
      "source": [
        "print(movies.show(5))\n",
        "print(ratings.show(5))\n",
        "print(links.show(5))\n",
        "print(tags.show(5))"
      ],
      "execution_count": 24,
      "outputs": [
        {
          "output_type": "stream",
          "text": [
            "+-------+--------------------+--------------------+\n",
            "|movieId|               title|              genres|\n",
            "+-------+--------------------+--------------------+\n",
            "|      1|    Toy Story (1995)|Adventure|Animati...|\n",
            "|      2|      Jumanji (1995)|Adventure|Childre...|\n",
            "|      3|Grumpier Old Men ...|      Comedy|Romance|\n",
            "|      4|Waiting to Exhale...|Comedy|Drama|Romance|\n",
            "|      5|Father of the Bri...|              Comedy|\n",
            "+-------+--------------------+--------------------+\n",
            "only showing top 5 rows\n",
            "\n",
            "None\n",
            "+------+-------+------+----------+\n",
            "|userId|movieId|rating| timestamp|\n",
            "+------+-------+------+----------+\n",
            "|     1|    296|   5.0|1147880044|\n",
            "|     1|    306|   3.5|1147868817|\n",
            "|     1|    307|   5.0|1147868828|\n",
            "|     1|    665|   5.0|1147878820|\n",
            "|     1|    899|   3.5|1147868510|\n",
            "+------+-------+------+----------+\n",
            "only showing top 5 rows\n",
            "\n",
            "None\n",
            "+-------+------+------+\n",
            "|movieId|imdbId|tmdbId|\n",
            "+-------+------+------+\n",
            "|      1|114709|   862|\n",
            "|      2|113497|  8844|\n",
            "|      3|113228| 15602|\n",
            "|      4|114885| 31357|\n",
            "|      5|113041| 11862|\n",
            "+-------+------+------+\n",
            "only showing top 5 rows\n",
            "\n",
            "None\n",
            "+------+-------+----------------+----------+\n",
            "|userId|movieId|             tag| timestamp|\n",
            "+------+-------+----------------+----------+\n",
            "|     3|    260|         classic|1439472355|\n",
            "|     3|    260|          sci-fi|1439472256|\n",
            "|     4|   1732|     dark comedy|1573943598|\n",
            "|     4|   1732|  great dialogue|1573943604|\n",
            "|     4|   7569|so bad it's good|1573943455|\n",
            "+------+-------+----------------+----------+\n",
            "only showing top 5 rows\n",
            "\n",
            "None\n"
          ],
          "name": "stdout"
        }
      ]
    },
    {
      "cell_type": "markdown",
      "metadata": {
        "id": "MMDFqM4pQWrJ",
        "colab_type": "text"
      },
      "source": [
        "# Distinct Ratings"
      ]
    },
    {
      "cell_type": "code",
      "metadata": {
        "id": "NwsmgBeyxfyK",
        "colab_type": "code",
        "colab": {
          "base_uri": "https://localhost:8080/",
          "height": 70
        },
        "outputId": "f89419ae-d575-4c00-f36f-9b3050ba267c"
      },
      "source": [
        "print(\"Distinct Ratings : \\n\")\n",
        "print(sorted(ratings.select('rating').distinct().rdd.map(lambda r: r[0]).collect()))"
      ],
      "execution_count": 25,
      "outputs": [
        {
          "output_type": "stream",
          "text": [
            "Distinct Ratings : \n",
            "\n",
            "[0.5, 1.0, 1.5, 2.0, 2.5, 3.0, 3.5, 4.0, 4.5, 5.0]\n"
          ],
          "name": "stdout"
        }
      ]
    },
    {
      "cell_type": "code",
      "metadata": {
        "id": "eXkq6odyQ3X8",
        "colab_type": "code",
        "colab": {
          "base_uri": "https://localhost:8080/",
          "height": 52
        },
        "outputId": "d3c817fe-89b1-484d-c531-c830ee88904b"
      },
      "source": [
        "#Minimum number of ratings per user and minimum number of ratings per movie\n",
        "print(\"Mininum Number of ratings per user: {}\".format(ratings.groupby(\"userId\").count().toPandas()['count'].min()))\n",
        "print(\"Mininum Number of ratings per movie: {}\".format(ratings.groupby(\"movieId\").count().toPandas()['count'].min()))"
      ],
      "execution_count": 26,
      "outputs": [
        {
          "output_type": "stream",
          "text": [
            "Mininum Number of ratings per user: 20\n",
            "Mininum Number of ratings per movie: 1\n"
          ],
          "name": "stdout"
        }
      ]
    },
    {
      "cell_type": "code",
      "metadata": {
        "id": "ttAHtl5gRo7H",
        "colab_type": "code",
        "colab": {
          "base_uri": "https://localhost:8080/",
          "height": 52
        },
        "outputId": "2df7f9da-75b9-4456-da5a-8b2321e3bf97"
      },
      "source": [
        "tmp1 = movies.select('movieID').distinct().count()\n",
        "tmp2 = ratings.select('movieID').distinct().count()\n",
        "print('We have a total of {} distinct movies that are rated by users in ratings table'.format(tmp2))\n",
        "print('We have {} movies that are not rated yet'.format(tmp1-tmp2))"
      ],
      "execution_count": 27,
      "outputs": [
        {
          "output_type": "stream",
          "text": [
            "We have a total of 59047 distinct movies that are rated by users in ratings table\n",
            "We have 3376 movies that are not rated yet\n"
          ],
          "name": "stdout"
        }
      ]
    },
    {
      "cell_type": "code",
      "metadata": {
        "id": "cXOD1Yv3TRnI",
        "colab_type": "code",
        "colab": {
          "base_uri": "https://localhost:8080/",
          "height": 318
        },
        "outputId": "f451d6aa-7d8f-4a09-978d-01c87d1a355e"
      },
      "source": [
        "movies.createOrReplaceTempView(\"movies\")\n",
        "ratings.createOrReplaceTempView(\"ratings\")\n",
        "print(\"List of movies which are not rated yet: \")\n",
        "not_rated_query=\"\"\"\n",
        "              SELECT m.movieId,m.title\n",
        "              FROM movies m LEFT JOIN ratings r ON m.movieId=r.movieId\n",
        "              WHERE r.movieId IS NULL\n",
        "              \"\"\"\n",
        "spark.sql(not_rated_query).show(10)"
      ],
      "execution_count": 28,
      "outputs": [
        {
          "output_type": "stream",
          "text": [
            "List of movies which are not rated yet: \n",
            "+-------+--------------------+\n",
            "|movieId|               title|\n",
            "+-------+--------------------+\n",
            "| 104656|Across the Sierra...|\n",
            "| 105796|Back in the Saddl...|\n",
            "| 121749|    War Drums (1957)|\n",
            "| 124743|I Take This Woman...|\n",
            "| 128131|The Castro's Abbe...|\n",
            "| 132406|Hotel Colonial (1...|\n",
            "| 147958|While New York Sl...|\n",
            "| 150822| Mask of Dust (1954)|\n",
            "| 156156|Swordswomen Three...|\n",
            "| 156296|Time Out for Rhyt...|\n",
            "+-------+--------------------+\n",
            "only showing top 10 rows\n",
            "\n"
          ],
          "name": "stdout"
        }
      ]
    },
    {
      "cell_type": "code",
      "metadata": {
        "id": "ESu3rZhtUCCH",
        "colab_type": "code",
        "colab": {
          "base_uri": "https://localhost:8080/",
          "height": 478
        },
        "outputId": "a098243a-8037-4c79-a298-47b247d11bdc"
      },
      "source": [
        "splitter = UserDefinedFunction(lambda x: x.split('|'), ArrayType(StringType()))\n",
        "print('All distinct genres with number of movies: ')\n",
        "movies.select('movieId',explode(splitter(\"genres\")).alias(\"genres\")).groupby('genres').count().sort(desc('count')).show()"
      ],
      "execution_count": 29,
      "outputs": [
        {
          "output_type": "stream",
          "text": [
            "All distinct genres with number of movies: \n",
            "+------------------+-----+\n",
            "|            genres|count|\n",
            "+------------------+-----+\n",
            "|             Drama|25606|\n",
            "|            Comedy|16870|\n",
            "|          Thriller| 8654|\n",
            "|           Romance| 7719|\n",
            "|            Action| 7348|\n",
            "|            Horror| 5989|\n",
            "|       Documentary| 5605|\n",
            "|             Crime| 5319|\n",
            "|(no genres listed)| 5062|\n",
            "|         Adventure| 4145|\n",
            "|            Sci-Fi| 3595|\n",
            "|          Children| 2935|\n",
            "|         Animation| 2929|\n",
            "|           Mystery| 2925|\n",
            "|           Fantasy| 2731|\n",
            "|               War| 1874|\n",
            "|           Western| 1399|\n",
            "|           Musical| 1054|\n",
            "|         Film-Noir|  353|\n",
            "|              IMAX|  195|\n",
            "+------------------+-----+\n",
            "\n"
          ],
          "name": "stdout"
        }
      ]
    },
    {
      "cell_type": "code",
      "metadata": {
        "id": "MBrhcwTzUlyo",
        "colab_type": "code",
        "colab": {
          "base_uri": "https://localhost:8080/",
          "height": 34
        },
        "outputId": "f73427dc-c3b1-42b1-ba5b-e4a67f2b57b1"
      },
      "source": [
        "movie_rating = sc.textFile(data_path+'ratings.csv')\n",
        "# preprocess data -- only need [\"userId\", \"movieId\", \"rating\"]\n",
        "header = movie_rating.take(1)[0]\n",
        "rating_data = movie_rating \\\n",
        "    .filter(lambda line: line!=header) \\\n",
        "    .map(lambda line: line.split(\",\")) \\\n",
        "    .map(lambda column: (int(column[0]), int(column[1]), float(column[2]))) \\\n",
        "    .cache()\n",
        "# check three rows\n",
        "rating_data.take(3)"
      ],
      "execution_count": 30,
      "outputs": [
        {
          "output_type": "execute_result",
          "data": {
            "text/plain": [
              "[(1, 296, 5.0), (1, 306, 3.5), (1, 307, 5.0)]"
            ]
          },
          "metadata": {
            "tags": []
          },
          "execution_count": 30
        }
      ]
    }
  ]
}